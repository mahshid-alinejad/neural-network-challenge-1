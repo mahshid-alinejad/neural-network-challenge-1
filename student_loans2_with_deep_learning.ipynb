{
 "cells": [
  {
   "cell_type": "markdown",
   "metadata": {
    "id": "T7ZNhGcW6q6r"
   },
   "source": [
    "# Student Loan Risk with Deep Learning"
   ]
  },
  {
   "cell_type": "code",
   "execution_count": 1,
   "metadata": {
    "id": "0otrXpJc6q6u"
   },
   "outputs": [],
   "source": [
    "# Imports\n",
    "import pandas as pd\n",
    "import tensorflow as tf\n",
    "from tensorflow.keras.layers import Dense\n",
    "from tensorflow.keras.models import Sequential\n",
    "from sklearn.model_selection import train_test_split\n",
    "from sklearn.preprocessing import StandardScaler\n",
    "from sklearn.metrics import classification_report\n",
    "from pathlib import Path\n",
    "import numpy as np"
   ]
  },
  {
   "cell_type": "markdown",
   "metadata": {
    "id": "OpV4Y-3Z6q6w"
   },
   "source": [
    "---\n",
    "\n",
    "## Prepare the data to be used on a neural network model"
   ]
  },
  {
   "cell_type": "markdown",
   "metadata": {
    "id": "TUuSzp2l6q6w"
   },
   "source": [
    "### Step 1: Read the `student-loans.csv` file into a Pandas DataFrame. Review the DataFrame, looking for columns that could eventually define your features and target variables.   "
   ]
  },
  {
   "cell_type": "code",
   "execution_count": 2,
   "metadata": {
    "colab": {
     "base_uri": "https://localhost:8080/",
     "height": 226
    },
    "id": "G65km1KD6q6x",
    "outputId": "93d12d8d-c415-4017-8452-5b4966e4dde5"
   },
   "outputs": [
    {
     "data": {
      "text/html": [
       "<div>\n",
       "<style scoped>\n",
       "    .dataframe tbody tr th:only-of-type {\n",
       "        vertical-align: middle;\n",
       "    }\n",
       "\n",
       "    .dataframe tbody tr th {\n",
       "        vertical-align: top;\n",
       "    }\n",
       "\n",
       "    .dataframe thead th {\n",
       "        text-align: right;\n",
       "    }\n",
       "</style>\n",
       "<table border=\"1\" class=\"dataframe\">\n",
       "  <thead>\n",
       "    <tr style=\"text-align: right;\">\n",
       "      <th></th>\n",
       "      <th>payment_history</th>\n",
       "      <th>location_parameter</th>\n",
       "      <th>stem_degree_score</th>\n",
       "      <th>gpa_ranking</th>\n",
       "      <th>alumni_success</th>\n",
       "      <th>study_major_code</th>\n",
       "      <th>time_to_completion</th>\n",
       "      <th>finance_workshop_score</th>\n",
       "      <th>cohort_ranking</th>\n",
       "      <th>total_loan_score</th>\n",
       "      <th>financial_aid_score</th>\n",
       "      <th>credit_ranking</th>\n",
       "    </tr>\n",
       "  </thead>\n",
       "  <tbody>\n",
       "    <tr>\n",
       "      <th>0</th>\n",
       "      <td>7.4</td>\n",
       "      <td>0.70</td>\n",
       "      <td>0.00</td>\n",
       "      <td>1.9</td>\n",
       "      <td>0.076</td>\n",
       "      <td>11.0</td>\n",
       "      <td>34.0</td>\n",
       "      <td>0.9978</td>\n",
       "      <td>3.51</td>\n",
       "      <td>0.56</td>\n",
       "      <td>9.4</td>\n",
       "      <td>0</td>\n",
       "    </tr>\n",
       "    <tr>\n",
       "      <th>1</th>\n",
       "      <td>7.8</td>\n",
       "      <td>0.88</td>\n",
       "      <td>0.00</td>\n",
       "      <td>2.6</td>\n",
       "      <td>0.098</td>\n",
       "      <td>25.0</td>\n",
       "      <td>67.0</td>\n",
       "      <td>0.9968</td>\n",
       "      <td>3.20</td>\n",
       "      <td>0.68</td>\n",
       "      <td>9.8</td>\n",
       "      <td>0</td>\n",
       "    </tr>\n",
       "    <tr>\n",
       "      <th>2</th>\n",
       "      <td>7.8</td>\n",
       "      <td>0.76</td>\n",
       "      <td>0.04</td>\n",
       "      <td>2.3</td>\n",
       "      <td>0.092</td>\n",
       "      <td>15.0</td>\n",
       "      <td>54.0</td>\n",
       "      <td>0.9970</td>\n",
       "      <td>3.26</td>\n",
       "      <td>0.65</td>\n",
       "      <td>9.8</td>\n",
       "      <td>0</td>\n",
       "    </tr>\n",
       "    <tr>\n",
       "      <th>3</th>\n",
       "      <td>11.2</td>\n",
       "      <td>0.28</td>\n",
       "      <td>0.56</td>\n",
       "      <td>1.9</td>\n",
       "      <td>0.075</td>\n",
       "      <td>17.0</td>\n",
       "      <td>60.0</td>\n",
       "      <td>0.9980</td>\n",
       "      <td>3.16</td>\n",
       "      <td>0.58</td>\n",
       "      <td>9.8</td>\n",
       "      <td>1</td>\n",
       "    </tr>\n",
       "    <tr>\n",
       "      <th>4</th>\n",
       "      <td>7.4</td>\n",
       "      <td>0.70</td>\n",
       "      <td>0.00</td>\n",
       "      <td>1.9</td>\n",
       "      <td>0.076</td>\n",
       "      <td>11.0</td>\n",
       "      <td>34.0</td>\n",
       "      <td>0.9978</td>\n",
       "      <td>3.51</td>\n",
       "      <td>0.56</td>\n",
       "      <td>9.4</td>\n",
       "      <td>0</td>\n",
       "    </tr>\n",
       "  </tbody>\n",
       "</table>\n",
       "</div>"
      ],
      "text/plain": [
       "   payment_history  location_parameter  stem_degree_score  gpa_ranking  \\\n",
       "0              7.4                0.70               0.00          1.9   \n",
       "1              7.8                0.88               0.00          2.6   \n",
       "2              7.8                0.76               0.04          2.3   \n",
       "3             11.2                0.28               0.56          1.9   \n",
       "4              7.4                0.70               0.00          1.9   \n",
       "\n",
       "   alumni_success  study_major_code  time_to_completion  \\\n",
       "0           0.076              11.0                34.0   \n",
       "1           0.098              25.0                67.0   \n",
       "2           0.092              15.0                54.0   \n",
       "3           0.075              17.0                60.0   \n",
       "4           0.076              11.0                34.0   \n",
       "\n",
       "   finance_workshop_score  cohort_ranking  total_loan_score  \\\n",
       "0                  0.9978            3.51              0.56   \n",
       "1                  0.9968            3.20              0.68   \n",
       "2                  0.9970            3.26              0.65   \n",
       "3                  0.9980            3.16              0.58   \n",
       "4                  0.9978            3.51              0.56   \n",
       "\n",
       "   financial_aid_score  credit_ranking  \n",
       "0                  9.4               0  \n",
       "1                  9.8               0  \n",
       "2                  9.8               0  \n",
       "3                  9.8               1  \n",
       "4                  9.4               0  "
      ]
     },
     "execution_count": 2,
     "metadata": {},
     "output_type": "execute_result"
    }
   ],
   "source": [
    "# Read the csv into a Pandas DataFrame\n",
    "file_path = \"https://static.bc-edx.com/ai/ail-v-1-0/m18/lms/datasets/student-loans.csv\"\n",
    "loans_df = pd.read_csv(file_path)\n",
    "\n",
    "# Review the DataFrame\n",
    "loans_df.head()"
   ]
  },
  {
   "cell_type": "code",
   "execution_count": 3,
   "metadata": {
    "colab": {
     "base_uri": "https://localhost:8080/"
    },
    "id": "K8ZYB8wx6q6x",
    "outputId": "b509fc34-4488-406e-e451-2069fec37371"
   },
   "outputs": [
    {
     "data": {
      "text/plain": [
       "payment_history           float64\n",
       "location_parameter        float64\n",
       "stem_degree_score         float64\n",
       "gpa_ranking               float64\n",
       "alumni_success            float64\n",
       "study_major_code          float64\n",
       "time_to_completion        float64\n",
       "finance_workshop_score    float64\n",
       "cohort_ranking            float64\n",
       "total_loan_score          float64\n",
       "financial_aid_score       float64\n",
       "credit_ranking              int64\n",
       "dtype: object"
      ]
     },
     "execution_count": 3,
     "metadata": {},
     "output_type": "execute_result"
    }
   ],
   "source": [
    "# Review the data types associated with the columns\n",
    "loans_df.dtypes"
   ]
  },
  {
   "cell_type": "code",
   "execution_count": 5,
   "metadata": {
    "colab": {
     "base_uri": "https://localhost:8080/"
    },
    "id": "9P8aX-dW75JO",
    "outputId": "63251fa8-5ac1-4112-c2f7-bc5d97ea8491"
   },
   "outputs": [
    {
     "data": {
      "text/plain": [
       "credit_ranking\n",
       "1    855\n",
       "0    744\n",
       "Name: count, dtype: int64"
      ]
     },
     "execution_count": 5,
     "metadata": {},
     "output_type": "execute_result"
    }
   ],
   "source": [
    "# Check the credit_ranking value counts\n",
    "loans_df[\"credit_ranking\"].value_counts()"
   ]
  },
  {
   "cell_type": "markdown",
   "metadata": {
    "id": "R6vbZeDH6q6y"
   },
   "source": [
    "### Step 2: Using the preprocessed data, create the features (`X`) and target (`y`) datasets. The target dataset should be defined by the preprocessed DataFrame column “credit_ranking”. The remaining columns should define the features dataset."
   ]
  },
  {
   "cell_type": "code",
   "execution_count": 7,
   "metadata": {
    "colab": {
     "base_uri": "https://localhost:8080/"
    },
    "id": "Q5eVAP5M6q6y",
    "outputId": "89728bbf-6930-4573-a126-9f1b66ed8859"
   },
   "outputs": [
    {
     "data": {
      "text/plain": [
       "array([0, 0, 0, ..., 1, 0, 1])"
      ]
     },
     "execution_count": 7,
     "metadata": {},
     "output_type": "execute_result"
    }
   ],
   "source": [
    "# Define the target set y using the credit_ranking column\n",
    "y =loans_df[\"credit_ranking\"]\n",
    "\n",
    "# Display a sample of y\n",
    "np.array(y)"
   ]
  },
  {
   "cell_type": "code",
   "execution_count": 10,
   "metadata": {
    "colab": {
     "base_uri": "https://localhost:8080/",
     "height": 226
    },
    "id": "IIkrD2Sn6q6z",
    "outputId": "ce07c4a3-fb81-4657-d11e-ec85ae8554c9"
   },
   "outputs": [
    {
     "data": {
      "text/html": [
       "<div>\n",
       "<style scoped>\n",
       "    .dataframe tbody tr th:only-of-type {\n",
       "        vertical-align: middle;\n",
       "    }\n",
       "\n",
       "    .dataframe tbody tr th {\n",
       "        vertical-align: top;\n",
       "    }\n",
       "\n",
       "    .dataframe thead th {\n",
       "        text-align: right;\n",
       "    }\n",
       "</style>\n",
       "<table border=\"1\" class=\"dataframe\">\n",
       "  <thead>\n",
       "    <tr style=\"text-align: right;\">\n",
       "      <th></th>\n",
       "      <th>payment_history</th>\n",
       "      <th>location_parameter</th>\n",
       "      <th>stem_degree_score</th>\n",
       "      <th>gpa_ranking</th>\n",
       "      <th>alumni_success</th>\n",
       "      <th>study_major_code</th>\n",
       "      <th>time_to_completion</th>\n",
       "      <th>finance_workshop_score</th>\n",
       "      <th>cohort_ranking</th>\n",
       "      <th>total_loan_score</th>\n",
       "      <th>financial_aid_score</th>\n",
       "    </tr>\n",
       "  </thead>\n",
       "  <tbody>\n",
       "    <tr>\n",
       "      <th>0</th>\n",
       "      <td>7.4</td>\n",
       "      <td>0.70</td>\n",
       "      <td>0.00</td>\n",
       "      <td>1.9</td>\n",
       "      <td>0.076</td>\n",
       "      <td>11.0</td>\n",
       "      <td>34.0</td>\n",
       "      <td>0.9978</td>\n",
       "      <td>3.51</td>\n",
       "      <td>0.56</td>\n",
       "      <td>9.4</td>\n",
       "    </tr>\n",
       "    <tr>\n",
       "      <th>1</th>\n",
       "      <td>7.8</td>\n",
       "      <td>0.88</td>\n",
       "      <td>0.00</td>\n",
       "      <td>2.6</td>\n",
       "      <td>0.098</td>\n",
       "      <td>25.0</td>\n",
       "      <td>67.0</td>\n",
       "      <td>0.9968</td>\n",
       "      <td>3.20</td>\n",
       "      <td>0.68</td>\n",
       "      <td>9.8</td>\n",
       "    </tr>\n",
       "    <tr>\n",
       "      <th>2</th>\n",
       "      <td>7.8</td>\n",
       "      <td>0.76</td>\n",
       "      <td>0.04</td>\n",
       "      <td>2.3</td>\n",
       "      <td>0.092</td>\n",
       "      <td>15.0</td>\n",
       "      <td>54.0</td>\n",
       "      <td>0.9970</td>\n",
       "      <td>3.26</td>\n",
       "      <td>0.65</td>\n",
       "      <td>9.8</td>\n",
       "    </tr>\n",
       "    <tr>\n",
       "      <th>3</th>\n",
       "      <td>11.2</td>\n",
       "      <td>0.28</td>\n",
       "      <td>0.56</td>\n",
       "      <td>1.9</td>\n",
       "      <td>0.075</td>\n",
       "      <td>17.0</td>\n",
       "      <td>60.0</td>\n",
       "      <td>0.9980</td>\n",
       "      <td>3.16</td>\n",
       "      <td>0.58</td>\n",
       "      <td>9.8</td>\n",
       "    </tr>\n",
       "    <tr>\n",
       "      <th>4</th>\n",
       "      <td>7.4</td>\n",
       "      <td>0.70</td>\n",
       "      <td>0.00</td>\n",
       "      <td>1.9</td>\n",
       "      <td>0.076</td>\n",
       "      <td>11.0</td>\n",
       "      <td>34.0</td>\n",
       "      <td>0.9978</td>\n",
       "      <td>3.51</td>\n",
       "      <td>0.56</td>\n",
       "      <td>9.4</td>\n",
       "    </tr>\n",
       "  </tbody>\n",
       "</table>\n",
       "</div>"
      ],
      "text/plain": [
       "   payment_history  location_parameter  stem_degree_score  gpa_ranking  \\\n",
       "0              7.4                0.70               0.00          1.9   \n",
       "1              7.8                0.88               0.00          2.6   \n",
       "2              7.8                0.76               0.04          2.3   \n",
       "3             11.2                0.28               0.56          1.9   \n",
       "4              7.4                0.70               0.00          1.9   \n",
       "\n",
       "   alumni_success  study_major_code  time_to_completion  \\\n",
       "0           0.076              11.0                34.0   \n",
       "1           0.098              25.0                67.0   \n",
       "2           0.092              15.0                54.0   \n",
       "3           0.075              17.0                60.0   \n",
       "4           0.076              11.0                34.0   \n",
       "\n",
       "   finance_workshop_score  cohort_ranking  total_loan_score  \\\n",
       "0                  0.9978            3.51              0.56   \n",
       "1                  0.9968            3.20              0.68   \n",
       "2                  0.9970            3.26              0.65   \n",
       "3                  0.9980            3.16              0.58   \n",
       "4                  0.9978            3.51              0.56   \n",
       "\n",
       "   financial_aid_score  \n",
       "0                  9.4  \n",
       "1                  9.8  \n",
       "2                  9.8  \n",
       "3                  9.8  \n",
       "4                  9.4  "
      ]
     },
     "execution_count": 10,
     "metadata": {},
     "output_type": "execute_result"
    }
   ],
   "source": [
    "# Define features set X by selecting all columns but credit_ranking\n",
    "\n",
    "\n",
    "# Review the features DataFrame\n",
    "X = loans_df.drop('credit_ranking', axis=1)\n",
    "X.head()"
   ]
  },
  {
   "cell_type": "markdown",
   "metadata": {
    "id": "QmM9c-tj6q6z"
   },
   "source": [
    "### Step 3: Split the features and target sets into training and testing datasets.\n"
   ]
  },
  {
   "cell_type": "code",
   "execution_count": 11,
   "metadata": {
    "id": "OD7xwU_96q6z"
   },
   "outputs": [],
   "source": [
    "# Split the preprocessed data into a training and testing dataset\n",
    "# Assign the function a random_state equal to 1\n",
    "X_train, X_test, y_train, y_test = train_test_split(X, y, test_size=0.2, random_state=1)\n"
   ]
  },
  {
   "cell_type": "markdown",
   "metadata": {
    "id": "G9i6DHY06q6z"
   },
   "source": [
    "### Step 4: Use scikit-learn's `StandardScaler` to scale the features data."
   ]
  },
  {
   "cell_type": "code",
   "execution_count": 12,
   "metadata": {
    "id": "BzD3z20m6q6z"
   },
   "outputs": [],
   "source": [
    "# Create a StandardScaler instance\n",
    "scaler = StandardScaler()\n",
    "\n",
    "\n",
    "# Fit the scaler to the features training dataset\n",
    "\n",
    "scaler.fit(X_train)\n",
    "\n",
    "# Fit the scaler to the features training dataset\n",
    "X_train_scaled = scaler.transform(X_train)\n",
    "X_test_scaled = scaler.transform(X_test)\n"
   ]
  },
  {
   "cell_type": "markdown",
   "metadata": {
    "id": "CZzVDjba6q6z"
   },
   "source": [
    "---\n",
    "\n",
    "## Compile and Evaluate a Model Using a Neural Network"
   ]
  },
  {
   "cell_type": "markdown",
   "metadata": {
    "id": "m-pSux4Q6q60"
   },
   "source": [
    "### Step 1: Create a deep neural network by assigning the number of input features, the number of layers, and the number of neurons on each layer using Tensorflow’s Keras.\n",
    "\n",
    "> **Hint** You can start with a two-layer deep neural network model that uses the `relu` activation function for both layers.\n"
   ]
  },
  {
   "cell_type": "code",
   "execution_count": 17,
   "metadata": {
    "colab": {
     "base_uri": "https://localhost:8080/"
    },
    "id": "t5C94FCd6q60",
    "outputId": "cbf05783-2f56-4745-cd33-649a6152e510"
   },
   "outputs": [
    {
     "data": {
      "text/plain": [
       "11"
      ]
     },
     "execution_count": 17,
     "metadata": {},
     "output_type": "execute_result"
    }
   ],
   "source": [
    "# Define the the number of inputs (features) to the model\n",
    "\n",
    "num_features = X_train.shape[1]\n",
    "\n",
    "# Review the number of features\n",
    "X_train.shape[1]"
   ]
  },
  {
   "cell_type": "code",
   "execution_count": 18,
   "metadata": {
    "id": "c_KXDLkF6q60"
   },
   "outputs": [],
   "source": [
    "# Define the number of hidden nodes for the first hidden layer\n",
    "hidden_nodes_layer1 = 16\n",
    "\n",
    "# Define the number of hidden nodes for the second hidden layer\n",
    "hidden_nodes_layer2 = 8\n",
    "\n",
    "\n",
    "# Define the number of neurons in the output layer\n",
    "output_neurons = 1"
   ]
  },
  {
   "cell_type": "code",
   "execution_count": 19,
   "metadata": {
    "id": "63UdFncw6q60"
   },
   "outputs": [],
   "source": [
    "# Create the Sequential model instance\n",
    "model = Sequential()\n",
    "\n",
    "# Add the first hidden layer\n",
    "\n",
    "model.add(Dense(units=hidden_nodes_layer1, activation='relu', input_dim=num_features))\n",
    "\n",
    "# Add the second hidden layer\n",
    "model.add(Dense(units=hidden_nodes_layer2, activation='relu'))\n",
    "\n",
    "\n",
    "# Add the output layer to the model specifying the number of output neurons and activation function\n",
    "model.add(Dense(units=output_neurons, activation='sigmoid'))\n"
   ]
  },
  {
   "cell_type": "code",
   "execution_count": 20,
   "metadata": {
    "colab": {
     "base_uri": "https://localhost:8080/"
    },
    "id": "-Beoh4f_6q61",
    "outputId": "2e50f810-086b-4d89-bf7d-98afbe0d649d"
   },
   "outputs": [
    {
     "name": "stdout",
     "output_type": "stream",
     "text": [
      "Model: \"sequential\"\n",
      "_________________________________________________________________\n",
      " Layer (type)                Output Shape              Param #   \n",
      "=================================================================\n",
      " dense (Dense)               (None, 16)                192       \n",
      "                                                                 \n",
      " dense_1 (Dense)             (None, 8)                 136       \n",
      "                                                                 \n",
      " dense_2 (Dense)             (None, 1)                 9         \n",
      "                                                                 \n",
      "=================================================================\n",
      "Total params: 337\n",
      "Trainable params: 337\n",
      "Non-trainable params: 0\n",
      "_________________________________________________________________\n"
     ]
    }
   ],
   "source": [
    "# Display the Sequential model summary\n",
    "model.summary()\n"
   ]
  },
  {
   "cell_type": "markdown",
   "metadata": {
    "id": "nRqWGIRo6q61"
   },
   "source": [
    "### Step 2: Compile and fit the model using the `binary_crossentropy` loss function, the `adam` optimizer, and the `accuracy` evaluation metric.\n"
   ]
  },
  {
   "cell_type": "code",
   "execution_count": 21,
   "metadata": {
    "id": "E-hZaeSn6q61"
   },
   "outputs": [],
   "source": [
    "# Compile the Sequential model\n",
    "model.compile(optimizer='adam', loss='binary_crossentropy', metrics=['accuracy'])\n"
   ]
  },
  {
   "cell_type": "code",
   "execution_count": 27,
   "metadata": {
    "colab": {
     "base_uri": "https://localhost:8080/"
    },
    "id": "x25e8Idc6q61",
    "outputId": "e95946ba-23da-47a3-a1c1-5e9a2a484a47"
   },
   "outputs": [
    {
     "name": "stdout",
     "output_type": "stream",
     "text": [
      "Epoch 1/50\n",
      "32/32 [==============================] - 0s 1ms/step - loss: 0.4493 - accuracy: 0.7859 - val_loss: 0.5036 - val_accuracy: 0.7500\n",
      "Epoch 2/50\n",
      "32/32 [==============================] - 0s 612us/step - loss: 0.4479 - accuracy: 0.7869 - val_loss: 0.5052 - val_accuracy: 0.7539\n",
      "Epoch 3/50\n",
      "32/32 [==============================] - 0s 640us/step - loss: 0.4470 - accuracy: 0.7879 - val_loss: 0.5055 - val_accuracy: 0.7500\n",
      "Epoch 4/50\n",
      "32/32 [==============================] - 0s 631us/step - loss: 0.4459 - accuracy: 0.7859 - val_loss: 0.5065 - val_accuracy: 0.7539\n",
      "Epoch 5/50\n",
      "32/32 [==============================] - 0s 593us/step - loss: 0.4450 - accuracy: 0.7879 - val_loss: 0.5060 - val_accuracy: 0.7500\n",
      "Epoch 6/50\n",
      "32/32 [==============================] - 0s 616us/step - loss: 0.4439 - accuracy: 0.7898 - val_loss: 0.5061 - val_accuracy: 0.7500\n",
      "Epoch 7/50\n",
      "32/32 [==============================] - 0s 608us/step - loss: 0.4440 - accuracy: 0.7869 - val_loss: 0.5065 - val_accuracy: 0.7500\n",
      "Epoch 8/50\n",
      "32/32 [==============================] - 0s 593us/step - loss: 0.4422 - accuracy: 0.7889 - val_loss: 0.5067 - val_accuracy: 0.7500\n",
      "Epoch 9/50\n",
      "32/32 [==============================] - 0s 565us/step - loss: 0.4415 - accuracy: 0.7918 - val_loss: 0.5081 - val_accuracy: 0.7461\n",
      "Epoch 10/50\n",
      "32/32 [==============================] - 0s 659us/step - loss: 0.4412 - accuracy: 0.7996 - val_loss: 0.5092 - val_accuracy: 0.7539\n",
      "Epoch 11/50\n",
      "32/32 [==============================] - 0s 609us/step - loss: 0.4393 - accuracy: 0.7977 - val_loss: 0.5096 - val_accuracy: 0.7578\n",
      "Epoch 12/50\n",
      "32/32 [==============================] - 0s 606us/step - loss: 0.4376 - accuracy: 0.7947 - val_loss: 0.5092 - val_accuracy: 0.7578\n",
      "Epoch 13/50\n",
      "32/32 [==============================] - 0s 605us/step - loss: 0.4370 - accuracy: 0.7977 - val_loss: 0.5098 - val_accuracy: 0.7578\n",
      "Epoch 14/50\n",
      "32/32 [==============================] - 0s 647us/step - loss: 0.4371 - accuracy: 0.7947 - val_loss: 0.5097 - val_accuracy: 0.7617\n",
      "Epoch 15/50\n",
      "32/32 [==============================] - 0s 630us/step - loss: 0.4352 - accuracy: 0.7928 - val_loss: 0.5105 - val_accuracy: 0.7617\n",
      "Epoch 16/50\n",
      "32/32 [==============================] - 0s 640us/step - loss: 0.4337 - accuracy: 0.7967 - val_loss: 0.5114 - val_accuracy: 0.7539\n",
      "Epoch 17/50\n",
      "32/32 [==============================] - 0s 585us/step - loss: 0.4329 - accuracy: 0.7986 - val_loss: 0.5113 - val_accuracy: 0.7500\n",
      "Epoch 18/50\n",
      "32/32 [==============================] - 0s 668us/step - loss: 0.4322 - accuracy: 0.7986 - val_loss: 0.5121 - val_accuracy: 0.7539\n",
      "Epoch 19/50\n",
      "32/32 [==============================] - 0s 633us/step - loss: 0.4308 - accuracy: 0.8016 - val_loss: 0.5133 - val_accuracy: 0.7617\n",
      "Epoch 20/50\n",
      "32/32 [==============================] - 0s 615us/step - loss: 0.4310 - accuracy: 0.7977 - val_loss: 0.5119 - val_accuracy: 0.7617\n",
      "Epoch 21/50\n",
      "32/32 [==============================] - 0s 573us/step - loss: 0.4290 - accuracy: 0.7986 - val_loss: 0.5133 - val_accuracy: 0.7539\n",
      "Epoch 22/50\n",
      "32/32 [==============================] - 0s 677us/step - loss: 0.4277 - accuracy: 0.8025 - val_loss: 0.5136 - val_accuracy: 0.7578\n",
      "Epoch 23/50\n",
      "32/32 [==============================] - 0s 639us/step - loss: 0.4271 - accuracy: 0.8035 - val_loss: 0.5155 - val_accuracy: 0.7578\n",
      "Epoch 24/50\n",
      "32/32 [==============================] - 0s 618us/step - loss: 0.4266 - accuracy: 0.8025 - val_loss: 0.5149 - val_accuracy: 0.7656\n",
      "Epoch 25/50\n",
      "32/32 [==============================] - 0s 584us/step - loss: 0.4245 - accuracy: 0.8035 - val_loss: 0.5162 - val_accuracy: 0.7539\n",
      "Epoch 26/50\n",
      "32/32 [==============================] - 0s 657us/step - loss: 0.4238 - accuracy: 0.8133 - val_loss: 0.5159 - val_accuracy: 0.7656\n",
      "Epoch 27/50\n",
      "32/32 [==============================] - 0s 647us/step - loss: 0.4232 - accuracy: 0.8055 - val_loss: 0.5166 - val_accuracy: 0.7578\n",
      "Epoch 28/50\n",
      "32/32 [==============================] - 0s 606us/step - loss: 0.4218 - accuracy: 0.8065 - val_loss: 0.5184 - val_accuracy: 0.7617\n",
      "Epoch 29/50\n",
      "32/32 [==============================] - 0s 575us/step - loss: 0.4212 - accuracy: 0.8113 - val_loss: 0.5192 - val_accuracy: 0.7617\n",
      "Epoch 30/50\n",
      "32/32 [==============================] - 0s 671us/step - loss: 0.4198 - accuracy: 0.8133 - val_loss: 0.5191 - val_accuracy: 0.7578\n",
      "Epoch 31/50\n",
      "32/32 [==============================] - 0s 642us/step - loss: 0.4198 - accuracy: 0.8065 - val_loss: 0.5196 - val_accuracy: 0.7539\n",
      "Epoch 32/50\n",
      "32/32 [==============================] - 0s 629us/step - loss: 0.4182 - accuracy: 0.8123 - val_loss: 0.5201 - val_accuracy: 0.7656\n",
      "Epoch 33/50\n",
      "32/32 [==============================] - 0s 684us/step - loss: 0.4171 - accuracy: 0.8133 - val_loss: 0.5207 - val_accuracy: 0.7695\n",
      "Epoch 34/50\n",
      "32/32 [==============================] - 0s 631us/step - loss: 0.4166 - accuracy: 0.8084 - val_loss: 0.5216 - val_accuracy: 0.7539\n",
      "Epoch 35/50\n",
      "32/32 [==============================] - 0s 603us/step - loss: 0.4160 - accuracy: 0.8133 - val_loss: 0.5220 - val_accuracy: 0.7617\n",
      "Epoch 36/50\n",
      "32/32 [==============================] - 0s 580us/step - loss: 0.4147 - accuracy: 0.8162 - val_loss: 0.5224 - val_accuracy: 0.7695\n",
      "Epoch 37/50\n",
      "32/32 [==============================] - 0s 680us/step - loss: 0.4134 - accuracy: 0.8172 - val_loss: 0.5224 - val_accuracy: 0.7617\n",
      "Epoch 38/50\n",
      "32/32 [==============================] - 0s 596us/step - loss: 0.4135 - accuracy: 0.8094 - val_loss: 0.5223 - val_accuracy: 0.7656\n",
      "Epoch 39/50\n",
      "32/32 [==============================] - 0s 649us/step - loss: 0.4111 - accuracy: 0.8133 - val_loss: 0.5227 - val_accuracy: 0.7656\n",
      "Epoch 40/50\n",
      "32/32 [==============================] - 0s 604us/step - loss: 0.4109 - accuracy: 0.8143 - val_loss: 0.5237 - val_accuracy: 0.7695\n",
      "Epoch 41/50\n",
      "32/32 [==============================] - 0s 613us/step - loss: 0.4098 - accuracy: 0.8162 - val_loss: 0.5238 - val_accuracy: 0.7656\n",
      "Epoch 42/50\n",
      "32/32 [==============================] - 0s 621us/step - loss: 0.4092 - accuracy: 0.8152 - val_loss: 0.5245 - val_accuracy: 0.7656\n",
      "Epoch 43/50\n",
      "32/32 [==============================] - 0s 604us/step - loss: 0.4088 - accuracy: 0.8133 - val_loss: 0.5252 - val_accuracy: 0.7578\n",
      "Epoch 44/50\n",
      "32/32 [==============================] - 0s 552us/step - loss: 0.4068 - accuracy: 0.8123 - val_loss: 0.5270 - val_accuracy: 0.7539\n",
      "Epoch 45/50\n",
      "32/32 [==============================] - 0s 620us/step - loss: 0.4073 - accuracy: 0.8172 - val_loss: 0.5239 - val_accuracy: 0.7656\n",
      "Epoch 46/50\n",
      "32/32 [==============================] - 0s 620us/step - loss: 0.4053 - accuracy: 0.8104 - val_loss: 0.5260 - val_accuracy: 0.7656\n",
      "Epoch 47/50\n",
      "32/32 [==============================] - 0s 605us/step - loss: 0.4048 - accuracy: 0.8172 - val_loss: 0.5271 - val_accuracy: 0.7656\n",
      "Epoch 48/50\n",
      "32/32 [==============================] - 0s 588us/step - loss: 0.4049 - accuracy: 0.8123 - val_loss: 0.5270 - val_accuracy: 0.7617\n",
      "Epoch 49/50\n",
      "32/32 [==============================] - 0s 568us/step - loss: 0.4026 - accuracy: 0.8182 - val_loss: 0.5273 - val_accuracy: 0.7617\n",
      "Epoch 50/50\n",
      "32/32 [==============================] - 0s 604us/step - loss: 0.4022 - accuracy: 0.8104 - val_loss: 0.5288 - val_accuracy: 0.7500\n"
     ]
    }
   ],
   "source": [
    "# Fit the model using 50 epochs and the training data\n",
    "history = model.fit(X_train_scaled, y_train, epochs=50, batch_size=32, validation_split=0.2, verbose=1)\n"
   ]
  },
  {
   "cell_type": "code",
   "execution_count": 28,
   "metadata": {},
   "outputs": [
    {
     "data": {
      "image/png": "[encoded data removed]",
      "text/plain": [
       "<Figure size 1200x400 with 2 Axes>"
      ]
     },
     "metadata": {},
     "output_type": "display_data"
    }
   ],
   "source": [
    "import matplotlib.pyplot as plt\n",
    "\n",
    "plt.figure(figsize=(12, 4))\n",
    "\n",
    "plt.subplot(1, 2, 1)\n",
    "plt.plot(history.history['loss'], label='Training Loss')\n",
    "plt.plot(history.history['val_loss'], label='Validation Loss')\n",
    "plt.title('Model Loss')\n",
    "plt.xlabel('Epoch')\n",
    "plt.ylabel('Loss')\n",
    "plt.legend()\n",
    "\n",
    "plt.subplot(1, 2, 2)\n",
    "plt.plot(history.history['accuracy'], label='Training Accuracy')\n",
    "plt.plot(history.history['val_accuracy'], label='Validation Accuracy')\n",
    "plt.title('Model Accuracy')\n",
    "plt.xlabel('Epoch')\n",
    "plt.ylabel('Accuracy')\n",
    "plt.legend()\n",
    "\n",
    "plt.tight_layout()\n",
    "plt.show()"
   ]
  },
  {
   "cell_type": "markdown",
   "metadata": {
    "id": "RfHMPZVI6q61"
   },
   "source": [
    "### Step 3: Evaluate the model using the test data to determine the model’s loss and accuracy.\n"
   ]
  },
  {
   "cell_type": "code",
   "execution_count": 30,
   "metadata": {
    "colab": {
     "base_uri": "https://localhost:8080/"
    },
    "id": "5hfVADKo6q61",
    "outputId": "7df473ad-3301-4b49-e5c3-16e1687cc1cf"
   },
   "outputs": [
    {
     "name": "stdout",
     "output_type": "stream",
     "text": [
      "10/10 - 0s - loss: 0.5444 - accuracy: 0.7437 - 18ms/epoch - 2ms/step\n",
      "Loss: 0.5443543791770935, Accuracy: 0.7437499761581421\n"
     ]
    }
   ],
   "source": [
    "# Evaluate the model loss and accuracy metrics using the evaluate method and the test data\n",
    "\n",
    "loss, accuracy = model.evaluate(X_test_scaled, y_test, verbose=2)\n",
    "\n",
    "\n",
    "# Display the model loss and accuracy results\n",
    "print(f\"Loss: {loss}, Accuracy: {accuracy}\")\n"
   ]
  },
  {
   "cell_type": "markdown",
   "metadata": {
    "id": "jpAv0rXA6q61"
   },
   "source": [
    "### Step 4: Save and export your model to a keras file, and name the file `student_loans.keras`.\n"
   ]
  },
  {
   "cell_type": "code",
   "execution_count": 32,
   "metadata": {
    "id": "q0MetN0W6q61"
   },
   "outputs": [],
   "source": [
    "# Set the model's file path\n",
    "file_path = Path(\"student_loans.keras\")\n",
    "\n",
    "\n",
    "# Export your model to a keras file\n",
    "model.save(file_path)"
   ]
  },
  {
   "cell_type": "markdown",
   "metadata": {
    "id": "R1opCDdN6q61"
   },
   "source": [
    "---\n",
    "## Predict Loan Repayment Success by Using your Neural Network Model"
   ]
  },
  {
   "cell_type": "markdown",
   "metadata": {
    "id": "TfIfpeiy6q61"
   },
   "source": [
    "### Step 1: Reload your saved model."
   ]
  },
  {
   "cell_type": "code",
   "execution_count": 33,
   "metadata": {
    "id": "OCET2mvW6q61"
   },
   "outputs": [],
   "source": [
    "# Set the model's file path\n",
    "\n",
    "file_path = Path(\"student_loans.keras\")\n",
    "\n",
    "# Load the model to a new object\n",
    "nn_imported = tf.keras.models.load_model(file_path)"
   ]
  },
  {
   "cell_type": "markdown",
   "metadata": {
    "id": "rTPKooGw6q61"
   },
   "source": [
    "### Step 2: Make predictions on the testing data and save the predictions to a DataFrame."
   ]
  },
  {
   "cell_type": "code",
   "execution_count": 34,
   "metadata": {
    "colab": {
     "base_uri": "https://localhost:8080/"
    },
    "id": "Vet7qjgx6q62",
    "outputId": "0925af42-7e12-4978-8396-2a2c1580e1eb"
   },
   "outputs": [
    {
     "name": "stdout",
     "output_type": "stream",
     "text": [
      "10/10 [==============================] - 0s 475us/step\n",
      "[[0.3788118 ]\n",
      " [0.29374206]\n",
      " [0.81983495]\n",
      " [0.7900154 ]\n",
      " [0.992442  ]]\n"
     ]
    }
   ],
   "source": [
    "# Make predictions with the test data\n",
    "predictions = model.predict(X_test_scaled)\n",
    "\n",
    "\n",
    "# Display a sample of the predictions\n",
    "sample_predictions = predictions[:5] \n",
    "print(sample_predictions)"
   ]
  },
  {
   "cell_type": "code",
   "execution_count": 39,
   "metadata": {
    "colab": {
     "base_uri": "https://localhost:8080/",
     "height": 424
    },
    "id": "87o8exFPhjfl",
    "outputId": "da5339c5-cea7-43e4-ec22-e168ea16dfa2"
   },
   "outputs": [
    {
     "data": {
      "text/html": [
       "<div>\n",
       "<style scoped>\n",
       "    .dataframe tbody tr th:only-of-type {\n",
       "        vertical-align: middle;\n",
       "    }\n",
       "\n",
       "    .dataframe tbody tr th {\n",
       "        vertical-align: top;\n",
       "    }\n",
       "\n",
       "    .dataframe thead th {\n",
       "        text-align: right;\n",
       "    }\n",
       "</style>\n",
       "<table border=\"1\" class=\"dataframe\">\n",
       "  <thead>\n",
       "    <tr style=\"text-align: right;\">\n",
       "      <th></th>\n",
       "      <th>Prediction</th>\n",
       "    </tr>\n",
       "  </thead>\n",
       "  <tbody>\n",
       "    <tr>\n",
       "      <th>0</th>\n",
       "      <td>0.0</td>\n",
       "    </tr>\n",
       "    <tr>\n",
       "      <th>1</th>\n",
       "      <td>0.0</td>\n",
       "    </tr>\n",
       "    <tr>\n",
       "      <th>2</th>\n",
       "      <td>1.0</td>\n",
       "    </tr>\n",
       "    <tr>\n",
       "      <th>3</th>\n",
       "      <td>1.0</td>\n",
       "    </tr>\n",
       "    <tr>\n",
       "      <th>4</th>\n",
       "      <td>1.0</td>\n",
       "    </tr>\n",
       "    <tr>\n",
       "      <th>...</th>\n",
       "      <td>...</td>\n",
       "    </tr>\n",
       "    <tr>\n",
       "      <th>315</th>\n",
       "      <td>1.0</td>\n",
       "    </tr>\n",
       "    <tr>\n",
       "      <th>316</th>\n",
       "      <td>0.0</td>\n",
       "    </tr>\n",
       "    <tr>\n",
       "      <th>317</th>\n",
       "      <td>0.0</td>\n",
       "    </tr>\n",
       "    <tr>\n",
       "      <th>318</th>\n",
       "      <td>1.0</td>\n",
       "    </tr>\n",
       "    <tr>\n",
       "      <th>319</th>\n",
       "      <td>1.0</td>\n",
       "    </tr>\n",
       "  </tbody>\n",
       "</table>\n",
       "<p>320 rows × 1 columns</p>\n",
       "</div>"
      ],
      "text/plain": [
       "     Prediction\n",
       "0           0.0\n",
       "1           0.0\n",
       "2           1.0\n",
       "3           1.0\n",
       "4           1.0\n",
       "..          ...\n",
       "315         1.0\n",
       "316         0.0\n",
       "317         0.0\n",
       "318         1.0\n",
       "319         1.0\n",
       "\n",
       "[320 rows x 1 columns]"
      ]
     },
     "execution_count": 39,
     "metadata": {},
     "output_type": "execute_result"
    }
   ],
   "source": [
    "# Save the predictions to a DataFrame and round the predictions to binary results\n",
    "predictions_df = pd.DataFrame(columns=['Prediction'], data=predictions)\n",
    "predictions_df[\"Prediction\"] = round(predictions_df[\"Prediction\"],0)\n",
    "predictions_df"
   ]
  },
  {
   "cell_type": "markdown",
   "metadata": {
    "id": "oxxLwycg6q62"
   },
   "source": [
    "### Step 4: Display a classification report with the y test data and predictions"
   ]
  },
  {
   "cell_type": "code",
   "execution_count": 41,
   "metadata": {
    "colab": {
     "base_uri": "https://localhost:8080/"
    },
    "id": "UTxYZibW6q67",
    "outputId": "f341b396-9b4c-478c-dba8-f6d904ba10e3"
   },
   "outputs": [
    {
     "name": "stdout",
     "output_type": "stream",
     "text": [
      "              precision    recall  f1-score   support\n",
      "\n",
      "           0       0.73      0.75      0.74       154\n",
      "           1       0.76      0.74      0.75       166\n",
      "\n",
      "    accuracy                           0.74       320\n",
      "   macro avg       0.74      0.74      0.74       320\n",
      "weighted avg       0.74      0.74      0.74       320\n",
      "\n"
     ]
    }
   ],
   "source": [
    "# Print the classification report with the y test data and predictions\n",
    "print(classification_report(y_test, predictions_df[\"Prediction\"].values))"
   ]
  },
  {
   "cell_type": "markdown",
   "metadata": {
    "id": "8Aaof1tBtcp6"
   },
   "source": [
    "---\n",
    "## Discuss creating a recommendation system for student loans"
   ]
  },
  {
   "cell_type": "markdown",
   "metadata": {
    "id": "_CC8cNpNtcp6"
   },
   "source": [
    "1. Describe the data that you would need to collect to build a recommendation system to recommend student loan options for students. Explain why this data would be relevant and appropriate.\n",
    "To build a recommendation system for student loan options, the following data would be necessary:\n",
    "\n",
    "Student Demographics: Age, gender, location, family income, and parental education levels. This data helps understand the socio-economic background of the student.\n",
    "Academic Information: GPA, major, school ranking, and expected graduation date. This helps gauge the student's academic standing and potential future income.\n",
    "Loan History: Previous loans taken, repayment history, and loan amounts. This data provides insight into the student's borrowing behavior and creditworthiness.\n",
    "Financial Aid Information: Scholarships, grants, work-study programs, and other financial aid received. This helps assess the student's current financial support.\n",
    "Employment Information: Part-time jobs, internships, and job offers. This can help predict the student's ability to repay the loan.\n",
    "Preferences and Needs: Preferences for loan types (fixed vs. variable rates), repayment terms, and deferment options. This ensures the recommendations align with the student's personal preferences.\n",
    "This data is relevant because it provides a comprehensive picture of the student's financial situation, academic prospects, and borrowing behavior, which are critical factors in recommending appropriate loan options.\n",
    "\n",
    "2. Based on the data you chose to use in this recommendation system, would your model be using collaborative filtering, content-based filtering, or context-based filtering? Justify why the data you selected would be suitable for your choice of filtering method.\n",
    "The recommendation system would primarily use content-based filtering. Content-based filtering focuses on the attributes of the items (in this case, loan options) and the user's profile.\n",
    "\n",
    "Why Content-Based Filtering:\n",
    "The data includes detailed attributes about the students and the loans, such as academic performance, financial status, and personal preferences.\n",
    "Each student's loan recommendation can be personalized based on their specific profile and needs.\n",
    "Content-based filtering allows the system to recommend loans that fit the student's unique circumstances, even if similar users have not taken those loans.\n",
    "Collaborative filtering could also be used as a complementary approach if there's sufficient data on how similar students have interacted with different loan options. However, content-based filtering is more suitable given the detailed and varied nature of the student and loan attributes.\n",
    "\n",
    "3. Describe two real-world challenges that you would take into consideration while building a recommendation system for student loans. Explain why these challenges would be of concern for a student loan recommendation system.\n",
    "Challenge 1: Data Privacy and Security\n",
    "\n",
    "Concern: Student loan applications involve sensitive personal and financial information. Ensuring the privacy and security of this data is paramount to prevent identity theft, fraud, and breaches of confidentiality.\n",
    "Solution: Implement robust data encryption, secure access protocols, and compliance with data protection regulations (such as GDPR or FERPA) to safeguard student information.\n",
    "Challenge 2: Bias and Fairness\n",
    "\n",
    "Concern: The recommendation system must avoid biases that could unfairly disadvantage certain groups of students, such as those from lower-income families or underrepresented backgrounds.\n",
    "Solution: Regularly audit the system for biases, ensure diverse training data, and incorporate fairness constraints into the recommendation algorithms to promote equitable access to loan options.\n",
    "Addressing these challenges is crucial for maintaining the trust and reliability of the recommendation system, ensuring it provides fair and secure loan recommendations to all students."
   ]
  }
 ],
 "metadata": {
  "colab": {
   "provenance": []
  },
  "kernelspec": {
   "display_name": "Python 3 (ipykernel)",
   "language": "python",
   "name": "python3"
  },
  "language_info": {
   "codemirror_mode": {
    "name": "ipython",
    "version": 3
   },
   "file_extension": ".py",
   "mimetype": "text/x-python",
   "name": "python",
   "nbconvert_exporter": "python",
   "pygments_lexer": "ipython3",
   "version": "3.10.13"
  }
 },
 "nbformat": 4,
 "nbformat_minor": 1
}
